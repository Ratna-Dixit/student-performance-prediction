{
 "cells": [
  {
   "cell_type": "markdown",
   "id": "ae26aa37",
   "metadata": {},
   "source": [
    "# 🎓 Student Performance Prediction using Linear Regression"
   ]
  },
  {
   "cell_type": "code",
   "execution_count": null,
   "id": "240de340",
   "metadata": {},
   "outputs": [],
   "source": [
    "import pandas as pd\n",
    "import numpy as np\n",
    "import matplotlib.pyplot as plt\n",
    "import seaborn as sns\n",
    "from sklearn.model_selection import train_test_split\n",
    "from sklearn.linear_model import LinearRegression\n",
    "from sklearn.metrics import mean_squared_error, r2_score"
   ]
  },
  {
   "cell_type": "code",
   "execution_count": null,
   "id": "4bfbcdd2",
   "metadata": {},
   "outputs": [],
   "source": [
    "data = {\n",
    "    'Hours_Studied': [1,2,3,4,5,6,7,8,9,10],\n",
    "    'Attendance': [60,65,70,75,80,85,90,92,95,98],\n",
    "    'Final_Exam_Score': [50,52,54,58,65,70,75,80,88,95]\n",
    "}\n",
    "df = pd.DataFrame(data)\n",
    "df.head()"
   ]
  },
  {
   "cell_type": "code",
   "execution_count": null,
   "id": "2d305f76",
   "metadata": {},
   "outputs": [],
   "source": [
    "sns.pairplot(df)\n",
    "plt.show()\n",
    "sns.heatmap(df.corr(), annot=True)\n",
    "plt.show()"
   ]
  },
  {
   "cell_type": "code",
   "execution_count": null,
   "id": "1a5923d9",
   "metadata": {},
   "outputs": [],
   "source": [
    "X = df[['Hours_Studied', 'Attendance']]\n",
    "y = df['Final_Exam_Score']\n",
    "X_train, X_test, y_train, y_test = train_test_split(X, y, test_size=0.2, random_state=42)"
   ]
  },
  {
   "cell_type": "code",
   "execution_count": null,
   "id": "59047d62",
   "metadata": {},
   "outputs": [],
   "source": [
    "model = LinearRegression()\n",
    "model.fit(X_train, y_train)\n",
    "y_pred = model.predict(X_test)"
   ]
  },
  {
   "cell_type": "code",
   "execution_count": null,
   "id": "efdf5972",
   "metadata": {},
   "outputs": [],
   "source": [
    "print(\"Mean Squared Error:\", mean_squared_error(y_test, y_pred))\n",
    "print(\"R² Score:\", r2_score(y_test, y_pred))\n",
    "pd.DataFrame({'Actual': y_test.values, 'Predicted': y_pred})"
   ]
  }
 ],
 "metadata": {},
 "nbformat": 4,
 "nbformat_minor": 5
}
